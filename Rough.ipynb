{
 "cells": [
  {
   "cell_type": "code",
   "execution_count": 149,
   "id": "8c7e3af1-d962-4f7b-85e7-4944f628455d",
   "metadata": {},
   "outputs": [
    {
     "data": {
      "text/plain": [
       "display_position (generic function with 2 methods)"
      ]
     },
     "execution_count": 149,
     "metadata": {},
     "output_type": "execute_result"
    }
   ],
   "source": [
    "function display_position(pos_matrix, cars, num_lanes, time, stop)\n",
    "    street = []\n",
    "    for _ in 1:num_lanes\n",
    "        lane = collect(\"-\" ^ stop)\n",
    "        lane[stop] = '|'\n",
    "        lane[stop-30] = '|'\n",
    "        push!(street, lane)\n",
    "    end\n",
    "    \n",
    "    for c in 1:length(cars)\n",
    "        lane = street[cars[c][2]]\n",
    "        lane[pos_matrix[c, time]] = Char('0' + c)\n",
    "    end\n",
    "    \n",
    "    for l in street\n",
    "        println(join(l))\n",
    "    end\n",
    "end"
   ]
  },
  {
   "cell_type": "code",
   "execution_count": 150,
   "id": "7ab3d994-98a7-4bd2-9362-9202e9a9a631",
   "metadata": {},
   "outputs": [
    {
     "data": {
      "text/plain": [
       "make_cars (generic function with 2 methods)"
      ]
     },
     "execution_count": 150,
     "metadata": {},
     "output_type": "execute_result"
    }
   ],
   "source": [
    "function make_cars(num_cars)\n",
    "    car = [-1, 1, 1, 1, false]                                                 # start lead car at pos = -1\n",
    "    cars = [car]\n",
    "    for _ in 1:num_cars-1\n",
    "        car = []\n",
    "        arrived = false\n",
    "        speed = rand(1:3)                                               # randomize speed    \n",
    "        spacing = rand(2:4)                                             # randomize spacing\n",
    "        lane = 1                                                        # all cars start in lane 1\n",
    "        pos = cars[end][1] - 1 - spacing                                # next car trails the previous car by spacing\n",
    "        car = [pos, lane, spacing, speed, arrived]\n",
    "        push!(cars, car)\n",
    "    end\n",
    "\n",
    "    pos_of_last_car = cars[end][1]                                      # get pos of last car\n",
    "    shift_pos = 1 - pos_of_last_car\n",
    "    for car in cars\n",
    "        car[1] += shift_pos                                             # shift pos, last car starts at pos = 1, negative numbers are awkward\n",
    "    end\n",
    "    \n",
    "    return cars\n",
    "end"
   ]
  },
  {
   "cell_type": "code",
   "execution_count": 151,
   "id": "6ea817c4-7697-458e-a1ff-5e1983aa14d8",
   "metadata": {},
   "outputs": [
    {
     "data": {
      "text/plain": [
       "simulate_traffic (generic function with 2 methods)"
      ]
     },
     "execution_count": 151,
     "metadata": {},
     "output_type": "execute_result"
    }
   ],
   "source": [
    "function simulate_traffic(cars, num_lanes, dest, time)\n",
    "    \n",
    "    num_cars = length(cars)\n",
    "\n",
    "    # Simulate Traffic\n",
    "    pos_matrix = zeros(Int, num_cars, time)                             # record pos of each car over time\n",
    "    stop = dest + 30                                                    # cars will stop at the traffic light\n",
    "\n",
    "    for c in 1:num_cars\n",
    "        pos_matrix[c, 1] = cars[c][1]                                   # t = 1\n",
    "    end\n",
    "\n",
    "    #println(\"t = 1\")\n",
    "    #display_position(pos_matrix, cars, num_lanes, 1, stop)\n",
    "    println()\n",
    "    \n",
    "    total_lane_switches = 0\n",
    "    arrival_times = zeros(Int, num_cars)\n",
    "    for t in 2:time\n",
    "        #println(\"t = \", t)\n",
    "        for car_id in 1:length(cars)\n",
    "            car = cars[car_id]\n",
    "            speed = car[4]\n",
    "\n",
    "            move = true\n",
    "\n",
    "            for j in 1:length(cars)\n",
    "                other_car = cars[j]\n",
    "                dist = other_car[1] - car[1]\n",
    "                if dist > 0                                            # check if car is in front\n",
    "                    if (dist - speed) <= car[3]                        # if car is closer than (spacing + speed) car does not move\n",
    "                        if other_car[2] == car[2]                      # check if car is in same lane\n",
    "\n",
    "                            switch_down = true\n",
    "                            if car[2] <= 1\n",
    "                                switch_down = false\n",
    "                            end\n",
    "                            for c in cars\n",
    "                            #   if other_car is in next lane AND is within + OR - 1 of curr_car pos: switch_lane = false\n",
    "                                if c[2] == car[2]-1 && (c[1] == car[1] || c[1] == car[1]+1 || c[1] == car[1]+1)\n",
    "                                    switch_down = false\n",
    "                                end\n",
    "                            end\n",
    "\n",
    "                            switch_up = true\n",
    "                            if car[2] >= num_lanes\n",
    "                                switch_up = false\n",
    "                            end\n",
    "                            for c in cars\n",
    "                            #   if other_car is in next lane AND is within + OR - 1 of curr_car pos: switch_lane = false\n",
    "                                if c[2] == car[2]+1 && (c[1] == car[1] || c[1] == car[1]+1 || c[1] == car[1]+1)\n",
    "                                    switch_up = false\n",
    "                                end\n",
    "                            end\n",
    "\n",
    "                            if !switch_up && !switch_down\n",
    "                                move = false                          # damn they got me boxed in >:{\n",
    "                            elseif switch_up\n",
    "                                car[2] += 1                           # switch up one lane\n",
    "                                total_lane_switches += 1\n",
    "                            else\n",
    "                                car[2] -= 1                           # switch down one lane\n",
    "                                total_lane_switches += 1\n",
    "                            end\n",
    "\n",
    "                        end\n",
    "                    end\n",
    "                end\n",
    "            end\n",
    "\n",
    "            if car[1] + speed > stop                           # if car is at a traffic light car does not move\n",
    "                move = false\n",
    "                pos_matrix[car_id, t] = car[1]\n",
    "                continue\n",
    "            end\n",
    "\n",
    "            if move\n",
    "                car[1] += speed                                        # car moves per speed\n",
    "            end\n",
    "            \n",
    "            if car[5] == false && car[1] >= dest\n",
    "                car[5] = true\n",
    "                arrival_times[car_id] = t\n",
    "            end \n",
    "\n",
    "            pos_matrix[car_id,t] = car[1]                              # save pos for car c at time t\n",
    "        end\n",
    "\n",
    "        #display_position(pos_matrix, cars, num_lanes, t, stop)\n",
    "        #println()\n",
    "    end\n",
    "    \n",
    "    return arrival_times, total_lane_switches\n",
    "    \n",
    "end"
   ]
  },
  {
   "cell_type": "code",
   "execution_count": 152,
   "id": "22b365e2-e3a5-4f6d-96dd-018545edc79c",
   "metadata": {},
   "outputs": [
    {
     "data": {
      "text/plain": [
       "6-element Vector{Vector{Int64}}:\n",
       " [21, 1, 1, 1, 0]\n",
       " [18, 1, 2, 2, 0]\n",
       " [13, 1, 4, 3, 0]\n",
       " [10, 1, 2, 1, 0]\n",
       " [5, 1, 4, 1, 0]\n",
       " [1, 1, 3, 3, 0]"
      ]
     },
     "execution_count": 152,
     "metadata": {},
     "output_type": "execute_result"
    }
   ],
   "source": [
    "cars = make_cars(6)"
   ]
  },
  {
   "cell_type": "code",
   "execution_count": 156,
   "id": "5c3986e1-de39-4a63-9558-4dee55e19bf9",
   "metadata": {},
   "outputs": [
    {
     "data": {
      "text/plain": [
       "reset_cars! (generic function with 1 method)"
      ]
     },
     "execution_count": 156,
     "metadata": {},
     "output_type": "execute_result"
    }
   ],
   "source": [
    "function reset_cars!(cars)\n",
    "    \n",
    "    cars[1][1] = -1\n",
    "    cars[1][2] = 1\n",
    "    cars[1][5] = false\n",
    "    \n",
    "    for c in 2:length(cars)\n",
    "        car = cars[c]\n",
    "        car[1] = cars[c-1][1] - 1 - car[3]\n",
    "        car[2] = 1\n",
    "        car[5] = false\n",
    "    end\n",
    "    \n",
    "    pos_last_car = cars[end][1]                                      # get pos of last car\n",
    "    shift_pos = 1 - pos_last_car\n",
    "    for car in cars\n",
    "        car[1] += shift_pos                                             # shift pos, last car starts at pos = 1, negative numbers are awkward\n",
    "    end\n",
    "    \n",
    "end"
   ]
  },
  {
   "cell_type": "code",
   "execution_count": 164,
   "id": "3fef4bf4-6179-4c47-98fa-52301985fb40",
   "metadata": {},
   "outputs": [
    {
     "name": "stdout",
     "output_type": "stream",
     "text": [
      "\n",
      "[11, 15, 19, 25, 28, 35, 39, 0, 0, 0]\n",
      "0\n",
      "[[40, 1, 1, 1, 0], [36, 1, 3, 1, 0], [33, 1, 2, 3, 0], [28, 1, 4, 3, 0], [23, 1, 4, 3, 0], [18, 1, 4, 1, 0], [14, 1, 3, 1, 0], [9, 1, 4, 2, 0], [5, 1, 3, 2, 0], [1, 1, 3, 1, 0]]\n",
      "\n",
      "[11, 15, 7, 9, 10, 33, 37, 22, 24, 50]\n",
      "28\n",
      "[[40, 1, 1, 1, 0], [36, 1, 3, 1, 0], [33, 1, 2, 3, 0], [28, 1, 4, 3, 0], [23, 1, 4, 3, 0], [18, 1, 4, 1, 0], [14, 1, 3, 1, 0], [9, 1, 4, 2, 0], [5, 1, 3, 2, 0], [1, 1, 3, 1, 0]]\n",
      "\n",
      "[11, 15, 7, 9, 10, 33, 37, 22, 24, 50]\n",
      "49\n",
      "[[40, 1, 1, 1, 0], [36, 1, 3, 1, 0], [33, 1, 2, 3, 0], [28, 1, 4, 3, 0], [23, 1, 4, 3, 0], [18, 1, 4, 1, 0], [14, 1, 3, 1, 0], [9, 1, 4, 2, 0], [5, 1, 3, 2, 0], [1, 1, 3, 1, 0]]\n",
      "\n",
      "[11, 15, 7, 9, 10, 33, 37, 22, 24, 50]\n",
      "53\n",
      "[[40, 1, 1, 1, 0], [36, 1, 3, 1, 0], [33, 1, 2, 3, 0], [28, 1, 4, 3, 0], [23, 1, 4, 3, 0], [18, 1, 4, 1, 0], [14, 1, 3, 1, 0], [9, 1, 4, 2, 0], [5, 1, 3, 2, 0], [1, 1, 3, 1, 0]]\n",
      "\n",
      "[11, 15, 7, 9, 10, 33, 37, 22, 24, 50]\n",
      "48\n",
      "[[40, 1, 1, 1, 0], [36, 1, 3, 1, 0], [33, 1, 2, 3, 0], [28, 1, 4, 3, 0], [23, 1, 4, 3, 0], [18, 1, 4, 1, 0], [14, 1, 3, 1, 0], [9, 1, 4, 2, 0], [5, 1, 3, 2, 0], [1, 1, 3, 1, 0]]\n"
     ]
    }
   ],
   "source": [
    "cars = make_cars(10)\n",
    "\n",
    "for lanes in 1:5\n",
    "    \n",
    "    arrivals, lane_switches = simulate_traffic(cars, lanes, 50, 500)\n",
    "    \n",
    "    first_arrival = minimum(arrivals)\n",
    "    last_arrival = maximum(arrivals)\n",
    "    \n",
    "    println(arrivals)\n",
    "    println(lane_switches)\n",
    "    \n",
    "    reset_cars!(cars)\n",
    "    println(cars)\n",
    "end"
   ]
  },
  {
   "cell_type": "code",
   "execution_count": null,
   "id": "91a820fc-a82e-4041-bb01-a76ff27fc8fa",
   "metadata": {},
   "outputs": [],
   "source": []
  },
  {
   "cell_type": "code",
   "execution_count": null,
   "id": "80d9dde8-4792-48d0-9f48-5ccc99d176ff",
   "metadata": {},
   "outputs": [],
   "source": []
  }
 ],
 "metadata": {
  "kernelspec": {
   "display_name": "Julia 1.9.3",
   "language": "julia",
   "name": "julia-1.9"
  },
  "language_info": {
   "file_extension": ".jl",
   "mimetype": "application/julia",
   "name": "julia",
   "version": "1.9.3"
  }
 },
 "nbformat": 4,
 "nbformat_minor": 5
}
