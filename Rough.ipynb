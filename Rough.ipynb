{
 "cells": [
  {
   "cell_type": "code",
   "execution_count": 113,
   "id": "8c7e3af1-d962-4f7b-85e7-4944f628455d",
   "metadata": {},
   "outputs": [
    {
     "data": {
      "text/plain": [
       "display_position (generic function with 1 method)"
      ]
     },
     "execution_count": 113,
     "metadata": {},
     "output_type": "execute_result"
    }
   ],
   "source": [
    "function display_position(pos_matrix, time)\n",
    "    println(\"time: \", time)\n",
    "    \n",
    "    street = collect(\"-\" ^ 61)\n",
    "    street[31] = '|'\n",
    "    \n",
    "    for c in 1:num_cars\n",
    "        #street[31+pos_matrix[c, time]] = Char(c)\n",
    "        street[31+pos_matrix[c, time]] = '#'\n",
    "    end\n",
    "    println(join(street))\n",
    "end"
   ]
  },
  {
   "cell_type": "code",
   "execution_count": 114,
   "id": "6ea817c4-7697-458e-a1ff-5e1983aa14d8",
   "metadata": {},
   "outputs": [
    {
     "name": "stdout",
     "output_type": "stream",
     "text": [
      "time: 1\n",
      "---------------------#-#-#-#-#|------------------------------\n",
      "time: 2\n",
      "----------------------#-#-#-#-#------------------------------\n",
      "time: 3\n",
      "-----------------------#-#-#-#|#-----------------------------\n",
      "time: 4\n",
      "------------------------#-#-#-#-#----------------------------\n",
      "time: 5\n",
      "-------------------------#-#-#|#-#---------------------------\n",
      "time: 6\n",
      "--------------------------#-#-#-#-#--------------------------\n",
      "time: 7\n",
      "---------------------------#-#|#-#-#-------------------------\n",
      "time: 8\n",
      "----------------------------#-#-#-#-#------------------------\n",
      "time: 9\n",
      "-----------------------------#|#-#-#-#-----------------------\n",
      "time: 10\n",
      "------------------------------#-#-#-#-#----------------------\n",
      "time: 11\n",
      "------------------------------|#-#-#-#-#---------------------\n",
      "time: 12\n",
      "------------------------------|-#-#-#-#-#--------------------\n",
      "time: 13\n",
      "------------------------------|--#-#-#-#-#-------------------\n",
      "time: 14\n",
      "------------------------------|---#-#-#-#-#------------------\n",
      "time: 15\n",
      "------------------------------|----#-#-#-#-#-----------------\n",
      "time: 16\n",
      "------------------------------|-----#-#-#-#-#----------------\n",
      "time: 17\n",
      "------------------------------|------#-#-#-#-#---------------\n",
      "time: 18\n",
      "------------------------------|-------#-#-#-#-#--------------\n",
      "time: 19\n",
      "------------------------------|--------#-#-#-#-#-------------\n",
      "time: 20\n",
      "------------------------------|---------#-#-#-#-#------------\n",
      "time: 21\n",
      "------------------------------|----------#-#-#-#-#-----------\n",
      "time: 22\n",
      "------------------------------|-----------#-#-#-#-#----------\n",
      "time: 23\n",
      "------------------------------#------------------------------\n",
      "time: 24\n",
      "------------------------------#------------------------------\n",
      "time: 25\n",
      "------------------------------#------------------------------\n",
      "time: 26\n",
      "------------------------------#------------------------------\n",
      "time: 27\n",
      "------------------------------#------------------------------\n",
      "time: 28\n",
      "------------------------------#------------------------------\n",
      "time: 29\n",
      "------------------------------#------------------------------\n",
      "time: 30\n",
      "------------------------------#------------------------------\n"
     ]
    }
   ],
   "source": [
    "num_cars = 5\n",
    "lead_car = [-1, 1, 1]\n",
    "cars = [lead_car]\n",
    "for _ in 1:num_cars-1\n",
    "    car = []\n",
    "    speed = 1\n",
    "    spacing = 2\n",
    "    pos = cars[end][1] - spacing\n",
    "    car = [pos, spacing, speed]\n",
    "    push!(cars, car)\n",
    "end\n",
    "\n",
    "time = 30\n",
    "pos_matrix = zeros(Int, num_cars, time)\n",
    "for c in 1:num_cars\n",
    "    pos_matrix[c, 1] = cars[c][1]\n",
    "end\n",
    "display_position(pos_matrix, 1)\n",
    "\n",
    "stop_distance = 20\n",
    "for t in 2:time\n",
    "    for i in 1:length(cars)\n",
    "        car = cars[i]\n",
    "        if i > 1\n",
    "            if (cars[i-1][1] - car[1]) < car[2] # if car is closer than designated spacing car should not move\n",
    "                continue\n",
    "            else\n",
    "                car[1] += car[3]                # car moves according to its speed per timestep\n",
    "            end\n",
    "        else\n",
    "            if car[1] >= stop_distance          # lead car stops\n",
    "                break\n",
    "            else\n",
    "                car[1] += car[3]                # car moves according to its speed per timestep\n",
    "            end\n",
    "        end\n",
    "        \n",
    "        pos_matrix[i,t] = car[1]\n",
    "    end\n",
    "    \n",
    "    display_position(pos_matrix, t)\n",
    "end"
   ]
  },
  {
   "cell_type": "code",
   "execution_count": null,
   "id": "97427a98-c231-4fc7-8a73-c1ec0feed353",
   "metadata": {},
   "outputs": [],
   "source": []
  },
  {
   "cell_type": "code",
   "execution_count": null,
   "id": "22b365e2-e3a5-4f6d-96dd-018545edc79c",
   "metadata": {},
   "outputs": [],
   "source": []
  }
 ],
 "metadata": {
  "kernelspec": {
   "display_name": "Julia 1.9.3",
   "language": "julia",
   "name": "julia-1.9"
  },
  "language_info": {
   "file_extension": ".jl",
   "mimetype": "application/julia",
   "name": "julia",
   "version": "1.9.3"
  }
 },
 "nbformat": 4,
 "nbformat_minor": 5
}
